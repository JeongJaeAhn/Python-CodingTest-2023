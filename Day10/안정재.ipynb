{
 "cells": [
  {
   "attachments": {},
   "cell_type": "markdown",
   "metadata": {},
   "source": [
    "## 1번 문제\n",
    "\n",
    "프로그래머스 Lev1. 카드 뭉치 "
   ]
  },
  {
   "cell_type": "code",
   "execution_count": 23,
   "metadata": {},
   "outputs": [
    {
     "name": "stdout",
     "output_type": "stream",
     "text": [
      "Yes\n",
      "No\n"
     ]
    }
   ],
   "source": [
    "def solution1(cards1, cards2, goal):\n",
    "    answer = 'Yes'\n",
    "    c1 = 0\n",
    "    c2 = 0\n",
    "\n",
    "    for i in range(len(goal)):\n",
    "        if c1 < len(cards1) and goal[i] == cards1[c1]:\n",
    "            c1 += 1\n",
    "        elif c2 < len(cards2) and goal[i] == cards2[c2]:\n",
    "            c2 += 1\n",
    "        else:\n",
    "            answer = 'No'\n",
    "\n",
    "    return answer\n",
    "\n",
    "cards1 = [\"i\", \"drink\", \"water\"]\n",
    "cards2 = [\"want\", \"to\"]\n",
    "goal = [\"i\", \"want\", \"to\", \"drink\", \"water\"]\n",
    "\n",
    "print(solution1(cards1, cards2, goal)) # return Yes\n",
    "\n",
    "cards1 = [\"i\", \"water\", \"drink\"]\n",
    "cards2 = [\"want\", \"to\"]\n",
    "goal = [\"i\", \"want\", \"to\", \"drink\", \"water\"]\n",
    "\n",
    "print(solution1(cards1, cards2, goal)) # return No"
   ]
  },
  {
   "attachments": {},
   "cell_type": "markdown",
   "metadata": {},
   "source": [
    "## 2번 문제\n",
    "\n",
    "프로그래머스 Lev1. 체육복"
   ]
  },
  {
   "cell_type": "code",
   "execution_count": 24,
   "metadata": {},
   "outputs": [
    {
     "name": "stdout",
     "output_type": "stream",
     "text": [
      "5\n",
      "4\n",
      "2\n"
     ]
    }
   ],
   "source": [
    "# n = 학생수, lost = 여벌 체육복가져온 학생들번호, reserve = 여분가져온 학생들번호\n",
    "def solution2(n, lost, reserve):\n",
    "    reserve_set = set(reserve) - set(lost)\n",
    "    lost_set = set(lost) - set(reserve)\n",
    "    for i in reserve_set:\n",
    "        if i-1 in lost_set:\n",
    "            lost_set.remove(i-1)\n",
    "        elif i+1 in lost_set:\n",
    "            lost_set.remove(i+1)\n",
    "    answer = n - len(lost_set)\n",
    "    \n",
    "\n",
    "    return answer\n",
    "\n",
    "n = 5\n",
    "lost = [2, 4]\n",
    "reserve = [1,3,5]\n",
    "\n",
    "print(solution2(n, lost, reserve)) # return 5\n",
    "\n",
    "\n",
    "n = 5\n",
    "lost = [2, 4]\n",
    "reserve = [3]\n",
    "\n",
    "print(solution2(n, lost, reserve)) # return 4\n",
    "\n",
    "\n",
    "n = 3\n",
    "lost = [3]\n",
    "reserve = [1]\n",
    "\n",
    "print(solution2(n, lost, reserve)) # return 2"
   ]
  }
 ],
 "metadata": {
  "kernelspec": {
   "display_name": "Python 3",
   "language": "python",
   "name": "python3"
  },
  "language_info": {
   "codemirror_mode": {
    "name": "ipython",
    "version": 3
   },
   "file_extension": ".py",
   "mimetype": "text/x-python",
   "name": "python",
   "nbconvert_exporter": "python",
   "pygments_lexer": "ipython3",
   "version": "3.11.1"
  },
  "orig_nbformat": 4,
  "vscode": {
   "interpreter": {
    "hash": "a3d8f53f1429d27b792a3789224562ddd32c1395c9a9cfbb17b3c19c3b9a493d"
   }
  }
 },
 "nbformat": 4,
 "nbformat_minor": 2
}
